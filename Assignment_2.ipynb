{
 "nbformat": 4,
 "nbformat_minor": 0,
 "metadata": {
  "colab": {
   "name": "Assignment 2.ipynb",
   "provenance": []
  },
  "kernelspec": {
   "name": "python3",
   "language": "python",
   "display_name": "Python 3"
  },
  "language_info": {
   "name": "python"
  }
 },
 "cells": [
  {
   "cell_type": "markdown",
   "metadata": {
    "id": "wev0zSShLEzX"
   },
   "source": [
    "# Image Text Extraction and Information Retrieval\n",
    "\n",
    "## The Question\n",
    "\n",
    "Being able to take pictures of text, recognize, convert into computer text, and search either typed or hand-written is a very interesting and useful concept.\n",
    "**What is the best way to extract text from images and search through them with specific queries?**\n",
    "\n",
    "## The Data\n",
    "\n",
    "Our data consists of **typed and hand-written document images and scans**. We created a dataset that is combined from multiple other datasets. It consists of approximately **1509 data points.**\n",
    "\n",
    "## The Approach\n",
    "\n",
    "Since all these images have different document styles and structures, we want to see how well the image text detection library we're using will be able to convert the document into computer text thus allowing us to search through the documents. We will not be implementing the document image word extraction or TF-IDF from scratch, but we will be using multiple libraries in order to see how these machine learning and natural language processing concepts and libraries work. The libraries we will be using are\n",
    "\n",
    "## Our Hypothesis\n",
    "\n",
    "\n",
    "\n",
    "## Why Bother?\n",
    "\n",
    "Teaching a machine to recognize physical typed and hand-written documents from pictures and scans as well as being able to search through these documents is a very important and useful machine learning concept.\n",
    "\n",
    "There are many applications such as being able to scan these documents into a database and being able to search for information within the documents.\n",
    "\n",
    "## Basic Setup\n",
    "\n",
    "### PIL, Pytesseract\n",
    "\n",
    "We first loaded in the machine learning libraries. **PIL** allows us to process the images. **Pytesseract** allows us to convert the text in the image into a text string."
   ]
  },
  {
   "cell_type": "code",
   "source": [
    "!pip install pytesseract\n",
    "!pip install googletrans\n",
    "!pip install pytesseract\n",
    "!pip install pandas"
   ],
   "metadata": {
    "collapsed": false,
    "pycharm": {
     "name": "#%%\n"
    }
   },
   "execution_count": 4,
   "outputs": [
    {
     "name": "stdout",
     "output_type": "stream",
     "text": [
      "Requirement already satisfied: pytesseract in /Users/cristinalawson/PycharmProjects/Assignment3/venv/lib/python3.9/site-packages (0.3.8)\r\n",
      "Requirement already satisfied: Pillow in /Users/cristinalawson/PycharmProjects/Assignment3/venv/lib/python3.9/site-packages (from pytesseract) (8.1.2)\r\n",
      "Requirement already satisfied: googletrans in /Users/cristinalawson/PycharmProjects/Assignment3/venv/lib/python3.9/site-packages (3.0.0)\r\n",
      "Requirement already satisfied: httpx==0.13.3 in /Users/cristinalawson/PycharmProjects/Assignment3/venv/lib/python3.9/site-packages (from googletrans) (0.13.3)\r\n",
      "Requirement already satisfied: chardet==3.* in /Users/cristinalawson/PycharmProjects/Assignment3/venv/lib/python3.9/site-packages (from httpx==0.13.3->googletrans) (3.0.4)\r\n",
      "Requirement already satisfied: idna==2.* in /Users/cristinalawson/PycharmProjects/Assignment3/venv/lib/python3.9/site-packages (from httpx==0.13.3->googletrans) (2.10)\r\n",
      "Requirement already satisfied: httpcore==0.9.* in /Users/cristinalawson/PycharmProjects/Assignment3/venv/lib/python3.9/site-packages (from httpx==0.13.3->googletrans) (0.9.1)\r\n",
      "Requirement already satisfied: certifi in /Users/cristinalawson/PycharmProjects/Assignment3/venv/lib/python3.9/site-packages (from httpx==0.13.3->googletrans) (2021.5.30)\r\n",
      "Requirement already satisfied: sniffio in /Users/cristinalawson/PycharmProjects/Assignment3/venv/lib/python3.9/site-packages (from httpx==0.13.3->googletrans) (1.2.0)\r\n",
      "Requirement already satisfied: rfc3986<2,>=1.3 in /Users/cristinalawson/PycharmProjects/Assignment3/venv/lib/python3.9/site-packages (from httpx==0.13.3->googletrans) (1.5.0)\r\n",
      "Requirement already satisfied: hstspreload in /Users/cristinalawson/PycharmProjects/Assignment3/venv/lib/python3.9/site-packages (from httpx==0.13.3->googletrans) (2021.12.1)\r\n",
      "Requirement already satisfied: h2==3.* in /Users/cristinalawson/PycharmProjects/Assignment3/venv/lib/python3.9/site-packages (from httpcore==0.9.*->httpx==0.13.3->googletrans) (3.2.0)\r\n",
      "Requirement already satisfied: h11<0.10,>=0.8 in /Users/cristinalawson/PycharmProjects/Assignment3/venv/lib/python3.9/site-packages (from httpcore==0.9.*->httpx==0.13.3->googletrans) (0.9.0)\r\n",
      "Requirement already satisfied: hyperframe<6,>=5.2.0 in /Users/cristinalawson/PycharmProjects/Assignment3/venv/lib/python3.9/site-packages (from h2==3.*->httpcore==0.9.*->httpx==0.13.3->googletrans) (5.2.0)\r\n",
      "Requirement already satisfied: hpack<4,>=3.0 in /Users/cristinalawson/PycharmProjects/Assignment3/venv/lib/python3.9/site-packages (from h2==3.*->httpcore==0.9.*->httpx==0.13.3->googletrans) (3.0.0)\r\n",
      "Requirement already satisfied: pytesseract in /Users/cristinalawson/PycharmProjects/Assignment3/venv/lib/python3.9/site-packages (0.3.8)\r\n",
      "Requirement already satisfied: Pillow in /Users/cristinalawson/PycharmProjects/Assignment3/venv/lib/python3.9/site-packages (from pytesseract) (8.1.2)\r\n",
      "Requirement already satisfied: pandas in /Users/cristinalawson/PycharmProjects/Assignment3/venv/lib/python3.9/site-packages (1.2.3)\r\n",
      "Requirement already satisfied: python-dateutil>=2.7.3 in /Users/cristinalawson/PycharmProjects/Assignment3/venv/lib/python3.9/site-packages (from pandas) (2.8.1)\r\n",
      "Requirement already satisfied: pytz>=2017.3 in /Users/cristinalawson/PycharmProjects/Assignment3/venv/lib/python3.9/site-packages (from pandas) (2021.1)\r\n",
      "Requirement already satisfied: numpy>=1.16.5 in /Users/cristinalawson/PycharmProjects/Assignment3/venv/lib/python3.9/site-packages (from pandas) (1.20.1)\r\n",
      "Requirement already satisfied: six>=1.5 in /Users/cristinalawson/PycharmProjects/Assignment3/venv/lib/python3.9/site-packages (from python-dateutil>=2.7.3->pandas) (1.15.0)\r\n",
      "Requirement already satisfied: elasticsearch in /Users/cristinalawson/PycharmProjects/Assignment3/venv/lib/python3.9/site-packages (7.13.1)\r\n",
      "Requirement already satisfied: certifi in /Users/cristinalawson/PycharmProjects/Assignment3/venv/lib/python3.9/site-packages (from elasticsearch) (2021.5.30)\r\n",
      "Requirement already satisfied: urllib3<2,>=1.21.1 in /Users/cristinalawson/PycharmProjects/Assignment3/venv/lib/python3.9/site-packages (from elasticsearch) (1.26.5)\r\n"
     ]
    }
   ]
  },
  {
   "cell_type": "code",
   "execution_count": 2,
   "outputs": [],
   "source": [
    "# adds image processing capabilities\n",
    "from PIL import Image\n",
    "\n",
    "# will convert the image text into a text string\n",
    "import pytesseract\n",
    "\n",
    "import os\n",
    "\n",
    "import pandas as pd\n",
    "\n",
    "from elasticsearch import Elasticsearch, helpers\n",
    "es = Elasticsearch([{'host': 'localhost', 'port': 9200}])\n",
    "import csv\n",
    "import sys"
   ],
   "metadata": {
    "collapsed": false,
    "pycharm": {
     "name": "#%%\n"
    }
   }
  },
  {
   "cell_type": "markdown",
   "source": [
    "## Convert Documents"
   ],
   "metadata": {
    "collapsed": false
   }
  },
  {
   "cell_type": "code",
   "execution_count": 11,
   "outputs": [
    {
     "ename": "KeyboardInterrupt",
     "evalue": "",
     "output_type": "error",
     "traceback": [
      "\u001B[0;31m---------------------------------------------------------------------------\u001B[0m",
      "\u001B[0;31mKeyboardInterrupt\u001B[0m                         Traceback (most recent call last)",
      "\u001B[0;32m<ipython-input-11-d978cc57e88e>\u001B[0m in \u001B[0;36m<module>\u001B[0;34m\u001B[0m\n\u001B[1;32m     28\u001B[0m             \u001B[0mimages\u001B[0m\u001B[0;34m.\u001B[0m\u001B[0mappend\u001B[0m\u001B[0;34m(\u001B[0m\u001B[0;34m'Data/Typed/'\u001B[0m \u001B[0;34m+\u001B[0m \u001B[0mfilename\u001B[0m\u001B[0;34m)\u001B[0m\u001B[0;34m\u001B[0m\u001B[0;34m\u001B[0m\u001B[0m\n\u001B[1;32m     29\u001B[0m             \u001B[0;31m# converts the image to result and saves it into result variable\u001B[0m\u001B[0;34m\u001B[0m\u001B[0;34m\u001B[0m\u001B[0;34m\u001B[0m\u001B[0m\n\u001B[0;32m---> 30\u001B[0;31m             \u001B[0mresult\u001B[0m \u001B[0;34m=\u001B[0m \u001B[0mpytesseract\u001B[0m\u001B[0;34m.\u001B[0m\u001B[0mimage_to_string\u001B[0m\u001B[0;34m(\u001B[0m\u001B[0mimg\u001B[0m\u001B[0;34m)\u001B[0m\u001B[0;34m\u001B[0m\u001B[0;34m\u001B[0m\u001B[0m\n\u001B[0m\u001B[1;32m     31\u001B[0m             \u001B[0mresults\u001B[0m\u001B[0;34m.\u001B[0m\u001B[0mappend\u001B[0m\u001B[0;34m(\u001B[0m\u001B[0mresult\u001B[0m\u001B[0;34m)\u001B[0m\u001B[0;34m\u001B[0m\u001B[0;34m\u001B[0m\u001B[0m\n\u001B[1;32m     32\u001B[0m \u001B[0;34m\u001B[0m\u001B[0m\n",
      "\u001B[0;32m~/PycharmProjects/Assignment3/venv/lib/python3.9/site-packages/pytesseract/pytesseract.py\u001B[0m in \u001B[0;36mimage_to_string\u001B[0;34m(image, lang, config, nice, output_type, timeout)\u001B[0m\n\u001B[1;32m    411\u001B[0m     \u001B[0margs\u001B[0m \u001B[0;34m=\u001B[0m \u001B[0;34m[\u001B[0m\u001B[0mimage\u001B[0m\u001B[0;34m,\u001B[0m \u001B[0;34m'txt'\u001B[0m\u001B[0;34m,\u001B[0m \u001B[0mlang\u001B[0m\u001B[0;34m,\u001B[0m \u001B[0mconfig\u001B[0m\u001B[0;34m,\u001B[0m \u001B[0mnice\u001B[0m\u001B[0;34m,\u001B[0m \u001B[0mtimeout\u001B[0m\u001B[0;34m]\u001B[0m\u001B[0;34m\u001B[0m\u001B[0;34m\u001B[0m\u001B[0m\n\u001B[1;32m    412\u001B[0m \u001B[0;34m\u001B[0m\u001B[0m\n\u001B[0;32m--> 413\u001B[0;31m     return {\n\u001B[0m\u001B[1;32m    414\u001B[0m         \u001B[0mOutput\u001B[0m\u001B[0;34m.\u001B[0m\u001B[0mBYTES\u001B[0m\u001B[0;34m:\u001B[0m \u001B[0;32mlambda\u001B[0m\u001B[0;34m:\u001B[0m \u001B[0mrun_and_get_output\u001B[0m\u001B[0;34m(\u001B[0m\u001B[0;34m*\u001B[0m\u001B[0;34m(\u001B[0m\u001B[0margs\u001B[0m \u001B[0;34m+\u001B[0m \u001B[0;34m[\u001B[0m\u001B[0;32mTrue\u001B[0m\u001B[0;34m]\u001B[0m\u001B[0;34m)\u001B[0m\u001B[0;34m)\u001B[0m\u001B[0;34m,\u001B[0m\u001B[0;34m\u001B[0m\u001B[0;34m\u001B[0m\u001B[0m\n\u001B[1;32m    415\u001B[0m         \u001B[0mOutput\u001B[0m\u001B[0;34m.\u001B[0m\u001B[0mDICT\u001B[0m\u001B[0;34m:\u001B[0m \u001B[0;32mlambda\u001B[0m\u001B[0;34m:\u001B[0m \u001B[0;34m{\u001B[0m\u001B[0;34m'text'\u001B[0m\u001B[0;34m:\u001B[0m \u001B[0mrun_and_get_output\u001B[0m\u001B[0;34m(\u001B[0m\u001B[0;34m*\u001B[0m\u001B[0margs\u001B[0m\u001B[0;34m)\u001B[0m\u001B[0;34m}\u001B[0m\u001B[0;34m,\u001B[0m\u001B[0;34m\u001B[0m\u001B[0;34m\u001B[0m\u001B[0m\n",
      "\u001B[0;32m~/PycharmProjects/Assignment3/venv/lib/python3.9/site-packages/pytesseract/pytesseract.py\u001B[0m in \u001B[0;36m<lambda>\u001B[0;34m()\u001B[0m\n\u001B[1;32m    414\u001B[0m         \u001B[0mOutput\u001B[0m\u001B[0;34m.\u001B[0m\u001B[0mBYTES\u001B[0m\u001B[0;34m:\u001B[0m \u001B[0;32mlambda\u001B[0m\u001B[0;34m:\u001B[0m \u001B[0mrun_and_get_output\u001B[0m\u001B[0;34m(\u001B[0m\u001B[0;34m*\u001B[0m\u001B[0;34m(\u001B[0m\u001B[0margs\u001B[0m \u001B[0;34m+\u001B[0m \u001B[0;34m[\u001B[0m\u001B[0;32mTrue\u001B[0m\u001B[0;34m]\u001B[0m\u001B[0;34m)\u001B[0m\u001B[0;34m)\u001B[0m\u001B[0;34m,\u001B[0m\u001B[0;34m\u001B[0m\u001B[0;34m\u001B[0m\u001B[0m\n\u001B[1;32m    415\u001B[0m         \u001B[0mOutput\u001B[0m\u001B[0;34m.\u001B[0m\u001B[0mDICT\u001B[0m\u001B[0;34m:\u001B[0m \u001B[0;32mlambda\u001B[0m\u001B[0;34m:\u001B[0m \u001B[0;34m{\u001B[0m\u001B[0;34m'text'\u001B[0m\u001B[0;34m:\u001B[0m \u001B[0mrun_and_get_output\u001B[0m\u001B[0;34m(\u001B[0m\u001B[0;34m*\u001B[0m\u001B[0margs\u001B[0m\u001B[0;34m)\u001B[0m\u001B[0;34m}\u001B[0m\u001B[0;34m,\u001B[0m\u001B[0;34m\u001B[0m\u001B[0;34m\u001B[0m\u001B[0m\n\u001B[0;32m--> 416\u001B[0;31m         \u001B[0mOutput\u001B[0m\u001B[0;34m.\u001B[0m\u001B[0mSTRING\u001B[0m\u001B[0;34m:\u001B[0m \u001B[0;32mlambda\u001B[0m\u001B[0;34m:\u001B[0m \u001B[0mrun_and_get_output\u001B[0m\u001B[0;34m(\u001B[0m\u001B[0;34m*\u001B[0m\u001B[0margs\u001B[0m\u001B[0;34m)\u001B[0m\u001B[0;34m,\u001B[0m\u001B[0;34m\u001B[0m\u001B[0;34m\u001B[0m\u001B[0m\n\u001B[0m\u001B[1;32m    417\u001B[0m     }[output_type]()\n\u001B[1;32m    418\u001B[0m \u001B[0;34m\u001B[0m\u001B[0m\n",
      "\u001B[0;32m~/PycharmProjects/Assignment3/venv/lib/python3.9/site-packages/pytesseract/pytesseract.py\u001B[0m in \u001B[0;36mrun_and_get_output\u001B[0;34m(image, extension, lang, config, nice, timeout, return_bytes)\u001B[0m\n\u001B[1;32m    282\u001B[0m         }\n\u001B[1;32m    283\u001B[0m \u001B[0;34m\u001B[0m\u001B[0m\n\u001B[0;32m--> 284\u001B[0;31m         \u001B[0mrun_tesseract\u001B[0m\u001B[0;34m(\u001B[0m\u001B[0;34m**\u001B[0m\u001B[0mkwargs\u001B[0m\u001B[0;34m)\u001B[0m\u001B[0;34m\u001B[0m\u001B[0;34m\u001B[0m\u001B[0m\n\u001B[0m\u001B[1;32m    285\u001B[0m         \u001B[0mfilename\u001B[0m \u001B[0;34m=\u001B[0m \u001B[0mkwargs\u001B[0m\u001B[0;34m[\u001B[0m\u001B[0;34m'output_filename_base'\u001B[0m\u001B[0;34m]\u001B[0m \u001B[0;34m+\u001B[0m \u001B[0mextsep\u001B[0m \u001B[0;34m+\u001B[0m \u001B[0mextension\u001B[0m\u001B[0;34m\u001B[0m\u001B[0;34m\u001B[0m\u001B[0m\n\u001B[1;32m    286\u001B[0m         \u001B[0;32mwith\u001B[0m \u001B[0mopen\u001B[0m\u001B[0;34m(\u001B[0m\u001B[0mfilename\u001B[0m\u001B[0;34m,\u001B[0m \u001B[0;34m'rb'\u001B[0m\u001B[0;34m)\u001B[0m \u001B[0;32mas\u001B[0m \u001B[0moutput_file\u001B[0m\u001B[0;34m:\u001B[0m\u001B[0;34m\u001B[0m\u001B[0;34m\u001B[0m\u001B[0m\n",
      "\u001B[0;32m~/PycharmProjects/Assignment3/venv/lib/python3.9/site-packages/pytesseract/pytesseract.py\u001B[0m in \u001B[0;36mrun_tesseract\u001B[0;34m(input_filename, output_filename_base, extension, lang, config, nice, timeout)\u001B[0m\n\u001B[1;32m    256\u001B[0m         \u001B[0;32mraise\u001B[0m \u001B[0mTesseractNotFoundError\u001B[0m\u001B[0;34m(\u001B[0m\u001B[0;34m)\u001B[0m\u001B[0;34m\u001B[0m\u001B[0;34m\u001B[0m\u001B[0m\n\u001B[1;32m    257\u001B[0m \u001B[0;34m\u001B[0m\u001B[0m\n\u001B[0;32m--> 258\u001B[0;31m     \u001B[0;32mwith\u001B[0m \u001B[0mtimeout_manager\u001B[0m\u001B[0;34m(\u001B[0m\u001B[0mproc\u001B[0m\u001B[0;34m,\u001B[0m \u001B[0mtimeout\u001B[0m\u001B[0;34m)\u001B[0m \u001B[0;32mas\u001B[0m \u001B[0merror_string\u001B[0m\u001B[0;34m:\u001B[0m\u001B[0;34m\u001B[0m\u001B[0;34m\u001B[0m\u001B[0m\n\u001B[0m\u001B[1;32m    259\u001B[0m         \u001B[0;32mif\u001B[0m \u001B[0mproc\u001B[0m\u001B[0;34m.\u001B[0m\u001B[0mreturncode\u001B[0m\u001B[0;34m:\u001B[0m\u001B[0;34m\u001B[0m\u001B[0;34m\u001B[0m\u001B[0m\n\u001B[1;32m    260\u001B[0m             \u001B[0;32mraise\u001B[0m \u001B[0mTesseractError\u001B[0m\u001B[0;34m(\u001B[0m\u001B[0mproc\u001B[0m\u001B[0;34m.\u001B[0m\u001B[0mreturncode\u001B[0m\u001B[0;34m,\u001B[0m \u001B[0mget_errors\u001B[0m\u001B[0;34m(\u001B[0m\u001B[0merror_string\u001B[0m\u001B[0;34m)\u001B[0m\u001B[0;34m)\u001B[0m\u001B[0;34m\u001B[0m\u001B[0;34m\u001B[0m\u001B[0m\n",
      "\u001B[0;32m/usr/local/Cellar/python@3.9/3.9.2_4/Frameworks/Python.framework/Versions/3.9/lib/python3.9/contextlib.py\u001B[0m in \u001B[0;36m__enter__\u001B[0;34m(self)\u001B[0m\n\u001B[1;32m    115\u001B[0m         \u001B[0;32mdel\u001B[0m \u001B[0mself\u001B[0m\u001B[0;34m.\u001B[0m\u001B[0margs\u001B[0m\u001B[0;34m,\u001B[0m \u001B[0mself\u001B[0m\u001B[0;34m.\u001B[0m\u001B[0mkwds\u001B[0m\u001B[0;34m,\u001B[0m \u001B[0mself\u001B[0m\u001B[0;34m.\u001B[0m\u001B[0mfunc\u001B[0m\u001B[0;34m\u001B[0m\u001B[0;34m\u001B[0m\u001B[0m\n\u001B[1;32m    116\u001B[0m         \u001B[0;32mtry\u001B[0m\u001B[0;34m:\u001B[0m\u001B[0;34m\u001B[0m\u001B[0;34m\u001B[0m\u001B[0m\n\u001B[0;32m--> 117\u001B[0;31m             \u001B[0;32mreturn\u001B[0m \u001B[0mnext\u001B[0m\u001B[0;34m(\u001B[0m\u001B[0mself\u001B[0m\u001B[0;34m.\u001B[0m\u001B[0mgen\u001B[0m\u001B[0;34m)\u001B[0m\u001B[0;34m\u001B[0m\u001B[0;34m\u001B[0m\u001B[0m\n\u001B[0m\u001B[1;32m    118\u001B[0m         \u001B[0;32mexcept\u001B[0m \u001B[0mStopIteration\u001B[0m\u001B[0;34m:\u001B[0m\u001B[0;34m\u001B[0m\u001B[0;34m\u001B[0m\u001B[0m\n\u001B[1;32m    119\u001B[0m             \u001B[0;32mraise\u001B[0m \u001B[0mRuntimeError\u001B[0m\u001B[0;34m(\u001B[0m\u001B[0;34m\"generator didn't yield\"\u001B[0m\u001B[0;34m)\u001B[0m \u001B[0;32mfrom\u001B[0m \u001B[0;32mNone\u001B[0m\u001B[0;34m\u001B[0m\u001B[0;34m\u001B[0m\u001B[0m\n",
      "\u001B[0;32m~/PycharmProjects/Assignment3/venv/lib/python3.9/site-packages/pytesseract/pytesseract.py\u001B[0m in \u001B[0;36mtimeout_manager\u001B[0;34m(proc, seconds)\u001B[0m\n\u001B[1;32m    122\u001B[0m     \u001B[0;32mtry\u001B[0m\u001B[0;34m:\u001B[0m\u001B[0;34m\u001B[0m\u001B[0;34m\u001B[0m\u001B[0m\n\u001B[1;32m    123\u001B[0m         \u001B[0;32mif\u001B[0m \u001B[0;32mnot\u001B[0m \u001B[0mseconds\u001B[0m\u001B[0;34m:\u001B[0m\u001B[0;34m\u001B[0m\u001B[0;34m\u001B[0m\u001B[0m\n\u001B[0;32m--> 124\u001B[0;31m             \u001B[0;32myield\u001B[0m \u001B[0mproc\u001B[0m\u001B[0;34m.\u001B[0m\u001B[0mcommunicate\u001B[0m\u001B[0;34m(\u001B[0m\u001B[0;34m)\u001B[0m\u001B[0;34m[\u001B[0m\u001B[0;36m1\u001B[0m\u001B[0;34m]\u001B[0m\u001B[0;34m\u001B[0m\u001B[0;34m\u001B[0m\u001B[0m\n\u001B[0m\u001B[1;32m    125\u001B[0m             \u001B[0;32mreturn\u001B[0m\u001B[0;34m\u001B[0m\u001B[0;34m\u001B[0m\u001B[0m\n\u001B[1;32m    126\u001B[0m \u001B[0;34m\u001B[0m\u001B[0m\n",
      "\u001B[0;32m/usr/local/Cellar/python@3.9/3.9.2_4/Frameworks/Python.framework/Versions/3.9/lib/python3.9/subprocess.py\u001B[0m in \u001B[0;36mcommunicate\u001B[0;34m(self, input, timeout)\u001B[0m\n\u001B[1;32m   1132\u001B[0m \u001B[0;34m\u001B[0m\u001B[0m\n\u001B[1;32m   1133\u001B[0m             \u001B[0;32mtry\u001B[0m\u001B[0;34m:\u001B[0m\u001B[0;34m\u001B[0m\u001B[0;34m\u001B[0m\u001B[0m\n\u001B[0;32m-> 1134\u001B[0;31m                 \u001B[0mstdout\u001B[0m\u001B[0;34m,\u001B[0m \u001B[0mstderr\u001B[0m \u001B[0;34m=\u001B[0m \u001B[0mself\u001B[0m\u001B[0;34m.\u001B[0m\u001B[0m_communicate\u001B[0m\u001B[0;34m(\u001B[0m\u001B[0minput\u001B[0m\u001B[0;34m,\u001B[0m \u001B[0mendtime\u001B[0m\u001B[0;34m,\u001B[0m \u001B[0mtimeout\u001B[0m\u001B[0;34m)\u001B[0m\u001B[0;34m\u001B[0m\u001B[0;34m\u001B[0m\u001B[0m\n\u001B[0m\u001B[1;32m   1135\u001B[0m             \u001B[0;32mexcept\u001B[0m \u001B[0mKeyboardInterrupt\u001B[0m\u001B[0;34m:\u001B[0m\u001B[0;34m\u001B[0m\u001B[0;34m\u001B[0m\u001B[0m\n\u001B[1;32m   1136\u001B[0m                 \u001B[0;31m# https://bugs.python.org/issue25942\u001B[0m\u001B[0;34m\u001B[0m\u001B[0;34m\u001B[0m\u001B[0;34m\u001B[0m\u001B[0m\n",
      "\u001B[0;32m/usr/local/Cellar/python@3.9/3.9.2_4/Frameworks/Python.framework/Versions/3.9/lib/python3.9/subprocess.py\u001B[0m in \u001B[0;36m_communicate\u001B[0;34m(self, input, endtime, orig_timeout)\u001B[0m\n\u001B[1;32m   1979\u001B[0m                             'failed to raise TimeoutExpired.')\n\u001B[1;32m   1980\u001B[0m \u001B[0;34m\u001B[0m\u001B[0m\n\u001B[0;32m-> 1981\u001B[0;31m                     \u001B[0mready\u001B[0m \u001B[0;34m=\u001B[0m \u001B[0mselector\u001B[0m\u001B[0;34m.\u001B[0m\u001B[0mselect\u001B[0m\u001B[0;34m(\u001B[0m\u001B[0mtimeout\u001B[0m\u001B[0;34m)\u001B[0m\u001B[0;34m\u001B[0m\u001B[0;34m\u001B[0m\u001B[0m\n\u001B[0m\u001B[1;32m   1982\u001B[0m                     \u001B[0mself\u001B[0m\u001B[0;34m.\u001B[0m\u001B[0m_check_timeout\u001B[0m\u001B[0;34m(\u001B[0m\u001B[0mendtime\u001B[0m\u001B[0;34m,\u001B[0m \u001B[0morig_timeout\u001B[0m\u001B[0;34m,\u001B[0m \u001B[0mstdout\u001B[0m\u001B[0;34m,\u001B[0m \u001B[0mstderr\u001B[0m\u001B[0;34m)\u001B[0m\u001B[0;34m\u001B[0m\u001B[0;34m\u001B[0m\u001B[0m\n\u001B[1;32m   1983\u001B[0m \u001B[0;34m\u001B[0m\u001B[0m\n",
      "\u001B[0;32m/usr/local/Cellar/python@3.9/3.9.2_4/Frameworks/Python.framework/Versions/3.9/lib/python3.9/selectors.py\u001B[0m in \u001B[0;36mselect\u001B[0;34m(self, timeout)\u001B[0m\n\u001B[1;32m    414\u001B[0m         \u001B[0mready\u001B[0m \u001B[0;34m=\u001B[0m \u001B[0;34m[\u001B[0m\u001B[0;34m]\u001B[0m\u001B[0;34m\u001B[0m\u001B[0;34m\u001B[0m\u001B[0m\n\u001B[1;32m    415\u001B[0m         \u001B[0;32mtry\u001B[0m\u001B[0;34m:\u001B[0m\u001B[0;34m\u001B[0m\u001B[0;34m\u001B[0m\u001B[0m\n\u001B[0;32m--> 416\u001B[0;31m             \u001B[0mfd_event_list\u001B[0m \u001B[0;34m=\u001B[0m \u001B[0mself\u001B[0m\u001B[0;34m.\u001B[0m\u001B[0m_selector\u001B[0m\u001B[0;34m.\u001B[0m\u001B[0mpoll\u001B[0m\u001B[0;34m(\u001B[0m\u001B[0mtimeout\u001B[0m\u001B[0;34m)\u001B[0m\u001B[0;34m\u001B[0m\u001B[0;34m\u001B[0m\u001B[0m\n\u001B[0m\u001B[1;32m    417\u001B[0m         \u001B[0;32mexcept\u001B[0m \u001B[0mInterruptedError\u001B[0m\u001B[0;34m:\u001B[0m\u001B[0;34m\u001B[0m\u001B[0;34m\u001B[0m\u001B[0m\n\u001B[1;32m    418\u001B[0m             \u001B[0;32mreturn\u001B[0m \u001B[0mready\u001B[0m\u001B[0;34m\u001B[0m\u001B[0;34m\u001B[0m\u001B[0m\n",
      "\u001B[0;31mKeyboardInterrupt\u001B[0m: "
     ]
    }
   ],
   "source": [
    "#list for storing each image and it's extracted text\n",
    "images = []\n",
    "results = []\n",
    "\n",
    "for filename in os.listdir('Data/Typed'):\n",
    "    if filename.endswith('.png'):\n",
    "        with open(os.path.join('Data/Typed', filename)) as f:\n",
    "            images.append('Data/Typed/' + filename)\n",
    "            # assigning an image from the source path\n",
    "            img = Image.open('Data/Typed/' + filename)\n",
    "            # converts the image to result and saves it into result variable\n",
    "            result = pytesseract.image_to_string(img)\n",
    "            results.append(result)\n",
    "\n",
    "for filename in os.listdir('Data/Written'):\n",
    "    if filename.endswith('.jpg'):\n",
    "        with open(os.path.join('Data/Written', filename)) as f:\n",
    "            images.append('Data/Written/' + filename)\n",
    "            # assigning an image from the source path\n",
    "            img = Image.open('Data/Written/' + filename)\n",
    "            # converts the image to result and saves it into result variable\n",
    "            result = pytesseract.image_to_string(img)\n",
    "            results.append(result)\n",
    "    if filename.endswith('.png'):\n",
    "        with open(os.path.join('Data/Written', filename)) as f:\n",
    "            images.append('Data/Written/' + filename)\n",
    "            # assigning an image from the source path\n",
    "            img = Image.open('Data/Written/' + filename)\n",
    "            # converts the image to result and saves it into result variable\n",
    "            result = pytesseract.image_to_string(img)\n",
    "            results.append(result)"
   ],
   "metadata": {
    "collapsed": false,
    "pycharm": {
     "name": "#%%\n"
    }
   }
  },
  {
   "cell_type": "markdown",
   "source": [
    "## Store in Datastore"
   ],
   "metadata": {
    "collapsed": false
   }
  },
  {
   "cell_type": "code",
   "execution_count": null,
   "outputs": [],
   "source": [
    "df = pd.DataFrame({\n",
    "        'image': images,\n",
    "        'result': results\n",
    "})\n",
    "\n",
    "df.to_csv('output.csv', index=False)"
   ],
   "metadata": {
    "collapsed": false,
    "pycharm": {
     "name": "#%%\n"
    }
   }
  },
  {
   "cell_type": "markdown",
   "source": [
    "## Elasticsearch"
   ],
   "metadata": {
    "collapsed": false
   }
  },
  {
   "cell_type": "code",
   "execution_count": 4,
   "outputs": [],
   "source": [
    "with open('output.csv') as f:\n",
    "    reader = csv.DictReader(f)\n",
    "    #es.indices.delete(index='documents')\n",
    "    helpers.bulk(es, reader, index='documents')"
   ],
   "metadata": {
    "collapsed": false,
    "pycharm": {
     "name": "#%%\n"
    }
   }
  },
  {
   "cell_type": "code",
   "execution_count": 10,
   "outputs": [
    {
     "name": "stdout",
     "output_type": "stream",
     "text": [
      "Search: yes\n",
      "\n",
      "Result: Page 2\n",
      "\n",
      "tcp tsetse enim tte tenet\n",
      "\n",
      "Form 4562 (1988)\n",
      "\n",
      "FAUT Automobiles, Certain Other Vehicles, Computers, and Property Used for Entertainment, Recreation, or\n",
      "Amusement (Listed Property).\n",
      "if you are using the standard mileage rate or deducting vehicle lease expense, complete columns (a) through (d) of Section A, all of\n",
      "Section B, and Section C if applicable.\n",
      "Section A.—Depreciation (If automobiles and other listed property placed in service after June 18, 1984, are used 50% or\n",
      "less in a trade or business, the section 179 deduction is not allowed and depreciation must be\n",
      "taken using the straight line method over 5 years. For other limitations, see instructions.)\n",
      "\n",
      "Yes LJ No It “Yes,” is the evidence written? Yes AI No\n",
      "\n",
      " \n",
      "\n",
      " \n",
      "\n",
      " \n",
      "\n",
      "Do you have evidence to support the business use claimed?\n",
      "\n",
      "    \n",
      "     \n",
      "   \n",
      "  \n",
      "\n",
      "     \n",
      "\n",
      "     \n",
      "    \n",
      "\n",
      "   \n",
      "    \n",
      "  \n",
      "\n",
      "   \n",
      " \n",
      "  \n",
      "\n",
      "  \n",
      " \n",
      "    \n",
      "\n",
      "    \n",
      "      \n",
      "\n",
      " \n",
      "\n",
      "Business (d) Cost or . api woe.\n",
      "ope (b) Date () ‘ | ’ (e) Basis for depreciation (f) Depreciation . Se\n",
      "Oe ehucles wt) Places percentage (see structions for | (Business use only—see method and to) seduction {Po expense\n",
      "service (%) jeased property) instructions) recovery perv\n",
      "\n",
      " \n",
      "\n",
      " \n",
      "\n",
      " \n",
      "\n",
      "yh\n",
      "yy\n",
      "\n",
      "Total (Enterhere andoniine2,pagel.) 2 Lo\n",
      "Total (Enter here and online 8, page.) . + ee V0\n",
      "\n",
      "Section B.—Information Regarding Use of Vehicles\n",
      "Complete this section as follows, if you deduct expenses for vehicles:\n",
      "e Always complete this section for vehicles used by a sole proprietor, partner, or other more than 5% owner or related person.\n",
      "e Ifyou provided vehicles to employees, first answer the questions in Section C to see if you meetan exception to completing this section\n",
      "\n",
      "for those items.\n",
      "Venice2 | Vehicle3 | _Vehicled _|__VehicleS Vehicle 6\n",
      "1 Total miles driven during the year. . - as fat} —_— _ ee\n",
      "2 Tota! business miles driven during the year Py ee\n",
      "3 Total commuting miles driven during the ve eee\n",
      "yearn / IVS _.\n",
      "mijesdriven 2. 6 eet eee\n",
      "\"Yea [No | Yes [No | Yes | No | Yes | No | Yes | No [| Yes | No\n",
      "5 Was the vehicle available for personal use rly ld | | ; ||\n",
      "during off-duty hours?. 5 6. - + Xx XX fp.\n",
      "6 Was the vehicle used primarily by a more\n",
      "than 5% owner or related person? . . Vanw,¢ oe\n",
      "7 \\s another vehicle available for personal\n",
      "Section C.— Questions for Employers Who Provide Vehicles for Use by Employees.\n",
      "\n",
      "(Answer these questions to determine if you meet an exception to completing Section B. Note: Section 8 must always be\n",
      "completed for vehicles used by sole proprietors, partners, or other more than 5% owners or related persons.)\n",
      "\n",
      "i\n",
      "\n",
      "   \n",
      " \n",
      " \n",
      "    \n",
      "\n",
      "8 Do you maintain a written policy statement that prohibits all personal use of vehicles, including commuting, by your\n",
      "employees? oe ine by your\n",
      "9 Do you maintain a written policy statement that prohibits personal use of vehicles, except commuting, by your\n",
      "employees? (See instructions for vehicles used by corporate officers, directors, or 1% or more owners.) .\n",
      "10 Do you treat ali use of vehicles by employees as personal use? . Cope ee ee ee\n",
      "11 Do you provide more than five vehicles to your employees and retain the information received from your employees\n",
      "concerning the use of the vehicles? . woe\n",
      "\n",
      ".\n",
      "\n",
      "   \n",
      "\n",
      "12 Do you meet the requirements concerning qualified automobile demonstration use (see jinstructions)? «+ Lepper X\n",
      "Note: if your answer to 8, 9, 10, 11, or 12 is “Yes,” you need not complete Section B for the covered vehicles. VLA\n",
      "\n",
      ": 91n\n",
      "\f\n"
     ]
    },
    {
     "name": "stderr",
     "output_type": "stream",
     "text": [
      "/Users/cristinalawson/PycharmProjects/Assignment3/venv/lib/python3.9/site-packages/elasticsearch/connection/base.py:208: ElasticsearchWarning: Elasticsearch built-in security features are not enabled. Without authentication, your cluster could be accessible to anyone. See https://www.elastic.co/guide/en/elasticsearch/reference/7.15/security-minimal-setup.html to enable security.\n",
      "  warnings.warn(message, category=ElasticsearchWarning)\n"
     ]
    },
    {
     "ename": "AttributeError",
     "evalue": "'str' object has no attribute 'show'",
     "output_type": "error",
     "traceback": [
      "\u001B[0;31m---------------------------------------------------------------------------\u001B[0m",
      "\u001B[0;31mAttributeError\u001B[0m                            Traceback (most recent call last)",
      "\u001B[0;32m<ipython-input-10-5736920e73a1>\u001B[0m in \u001B[0;36m<module>\u001B[0;34m\u001B[0m\n\u001B[1;32m     24\u001B[0m     \u001B[0;32mfor\u001B[0m \u001B[0mhit\u001B[0m \u001B[0;32min\u001B[0m \u001B[0mall_hits\u001B[0m\u001B[0;34m:\u001B[0m\u001B[0;34m\u001B[0m\u001B[0;34m\u001B[0m\u001B[0m\n\u001B[1;32m     25\u001B[0m         \u001B[0mprint\u001B[0m\u001B[0;34m(\u001B[0m\u001B[0;34m\"Result:\"\u001B[0m\u001B[0;34m,\u001B[0m \u001B[0mhit\u001B[0m\u001B[0;34m[\u001B[0m\u001B[0;34m'_source'\u001B[0m\u001B[0;34m]\u001B[0m\u001B[0;34m[\u001B[0m\u001B[0;34m'result'\u001B[0m\u001B[0;34m]\u001B[0m\u001B[0;34m)\u001B[0m\u001B[0;34m\u001B[0m\u001B[0;34m\u001B[0m\u001B[0m\n\u001B[0;32m---> 26\u001B[0;31m         \u001B[0mhit\u001B[0m\u001B[0;34m[\u001B[0m\u001B[0;34m'_source'\u001B[0m\u001B[0;34m]\u001B[0m\u001B[0;34m[\u001B[0m\u001B[0;34m'image'\u001B[0m\u001B[0;34m]\u001B[0m\u001B[0;34m.\u001B[0m\u001B[0mshow\u001B[0m\u001B[0;34m(\u001B[0m\u001B[0;34m)\u001B[0m\u001B[0;34m\u001B[0m\u001B[0;34m\u001B[0m\u001B[0m\n\u001B[0m\u001B[1;32m     27\u001B[0m \u001B[0;34m\u001B[0m\u001B[0m\n",
      "\u001B[0;31mAttributeError\u001B[0m: 'str' object has no attribute 'show'"
     ]
    }
   ],
   "source": [
    "searching = True\n",
    "\n",
    "while searching:\n",
    "    search = input(\"Search (to exit type 'exit'): \")\n",
    "\n",
    "    if (search == 'exit') or (search == 'Exit'):\n",
    "        break\n",
    "    else:\n",
    "        print('Search: ' + search)\n",
    "        print()\n",
    "        result = es.search(\n",
    "            index=\"documents\",\n",
    "            body={\n",
    "                \"query\": {\n",
    "                    \"multi_match\": {\n",
    "                        \"query\": search,\n",
    "                        \"fields\": [\"result\"]\n",
    "                    }\n",
    "                }\n",
    "            }\n",
    "        )\n",
    "    all_hits = result['hits']['hits']\n",
    "\n",
    "    for hit in all_hits:\n",
    "        print(\"Result:\", hit['_source']['result'])\n",
    "        hit['_source']['image'].show()"
   ],
   "metadata": {
    "collapsed": false,
    "pycharm": {
     "name": "#%%\n"
    }
   }
  },
  {
   "cell_type": "markdown",
   "source": [
    "## The Data\n",
    "\n",
    "## Voila!"
   ],
   "metadata": {
    "collapsed": false
   }
  },
  {
   "cell_type": "code",
   "metadata": {
    "id": "jzFl1IbSQc7Z",
    "pycharm": {
     "is_executing": true
    }
   },
   "source": [],
   "execution_count": null,
   "outputs": []
  }
 ]
}
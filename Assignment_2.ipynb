{
 "nbformat": 4,
 "nbformat_minor": 0,
 "metadata": {
  "colab": {
   "name": "Assignment 2.ipynb",
   "provenance": []
  },
  "kernelspec": {
   "name": "python3",
   "language": "python",
   "display_name": "Python 3"
  },
  "language_info": {
   "name": "python"
  }
 },
 "cells": [
  {
   "cell_type": "markdown",
   "metadata": {
    "id": "wev0zSShLEzX"
   },
   "source": [
    "# Written Text Recognition, Text Language Translation, and Sentiment Analyzer\n",
    "\n",
    "## The Question\n",
    "\n",
    "Being able to scan documents, recognize, convert, and translate either typed or hand-written into computer text is a very interesting and useful topic.\n",
    "**What is the best way to scan these documents, translate them, and put them into a datastore for future reference?**\n",
    "\n",
    "## The Data\n",
    "\n",
    "Our data consists of typed and hand-written document images and scans. We created a dataset that is combined from multiple other datasets. It consists of approximately **1000 data points.**\n",
    "\n",
    "## The Approach\n",
    "\n",
    "Since all these documents have different document styles and structures, we want to see how well the document detection library we're using will be able to convert the document into computer text. We will not be implementing the document image word detection or word translation from scratch, but we will be using multiple libraries in order to see how these machine learning and natural language processing concepts and libraries work. The libraries we will be using are\n",
    "\n",
    "## Our Hypothesis\n",
    "\n",
    "\n",
    "\n",
    "## Why Bother?\n",
    "\n",
    "Teaching a machine to recognize physical typed and hand-written documents thorough pictures and scans as well as being able to translate these documents into different languages is a very important and useful machine learning concept.\n",
    "\n",
    "There are many applications such as being able to scan these documents into a database and being able to search for information in those documents. Also, being able to translate words in pictures to allow for people that don't know the language to understand the words in the picture.\n",
    "\n",
    "## Basic Setup"
   ]
  },
  {
   "cell_type": "code",
   "source": [
    "!pip install pytesseract\n",
    "!pip install googletrans\n",
    "!pip install pytesseract\n",
    "\n",
    "# adds image processing capabilities\n",
    "from PIL import Image\n",
    "\n",
    "# will convert the image into a text string\n",
    "import pytesseract\n",
    "\n",
    "# translates words into preferred language\n",
    "from googletrans import Translator"
   ],
   "metadata": {
    "collapsed": false,
    "pycharm": {
     "name": "#%%\n"
    }
   },
   "execution_count": 1,
   "outputs": [
    {
     "name": "stdout",
     "output_type": "stream",
     "text": [
      "Requirement already satisfied: pytesseract in /Users/cristinalawson/PycharmProjects/Assignment3/venv/lib/python3.9/site-packages (0.3.8)\r\n",
      "Requirement already satisfied: Pillow in /Users/cristinalawson/PycharmProjects/Assignment3/venv/lib/python3.9/site-packages (from pytesseract) (8.1.2)\r\n",
      "Requirement already satisfied: googletrans in /Users/cristinalawson/PycharmProjects/Assignment3/venv/lib/python3.9/site-packages (3.0.0)\r\n",
      "Requirement already satisfied: httpx==0.13.3 in /Users/cristinalawson/PycharmProjects/Assignment3/venv/lib/python3.9/site-packages (from googletrans) (0.13.3)\r\n",
      "Requirement already satisfied: hstspreload in /Users/cristinalawson/PycharmProjects/Assignment3/venv/lib/python3.9/site-packages (from httpx==0.13.3->googletrans) (2021.12.1)\r\n",
      "Requirement already satisfied: rfc3986<2,>=1.3 in /Users/cristinalawson/PycharmProjects/Assignment3/venv/lib/python3.9/site-packages (from httpx==0.13.3->googletrans) (1.5.0)\r\n",
      "Requirement already satisfied: idna==2.* in /Users/cristinalawson/PycharmProjects/Assignment3/venv/lib/python3.9/site-packages (from httpx==0.13.3->googletrans) (2.10)\r\n",
      "Requirement already satisfied: sniffio in /Users/cristinalawson/PycharmProjects/Assignment3/venv/lib/python3.9/site-packages (from httpx==0.13.3->googletrans) (1.2.0)\r\n",
      "Requirement already satisfied: httpcore==0.9.* in /Users/cristinalawson/PycharmProjects/Assignment3/venv/lib/python3.9/site-packages (from httpx==0.13.3->googletrans) (0.9.1)\r\n",
      "Requirement already satisfied: chardet==3.* in /Users/cristinalawson/PycharmProjects/Assignment3/venv/lib/python3.9/site-packages (from httpx==0.13.3->googletrans) (3.0.4)\r\n",
      "Requirement already satisfied: certifi in /Users/cristinalawson/PycharmProjects/Assignment3/venv/lib/python3.9/site-packages (from httpx==0.13.3->googletrans) (2021.5.30)\r\n",
      "Requirement already satisfied: h2==3.* in /Users/cristinalawson/PycharmProjects/Assignment3/venv/lib/python3.9/site-packages (from httpcore==0.9.*->httpx==0.13.3->googletrans) (3.2.0)\r\n",
      "Requirement already satisfied: h11<0.10,>=0.8 in /Users/cristinalawson/PycharmProjects/Assignment3/venv/lib/python3.9/site-packages (from httpcore==0.9.*->httpx==0.13.3->googletrans) (0.9.0)\r\n",
      "Requirement already satisfied: hyperframe<6,>=5.2.0 in /Users/cristinalawson/PycharmProjects/Assignment3/venv/lib/python3.9/site-packages (from h2==3.*->httpcore==0.9.*->httpx==0.13.3->googletrans) (5.2.0)\r\n",
      "Requirement already satisfied: hpack<4,>=3.0 in /Users/cristinalawson/PycharmProjects/Assignment3/venv/lib/python3.9/site-packages (from h2==3.*->httpcore==0.9.*->httpx==0.13.3->googletrans) (3.0.0)\r\n",
      "Requirement already satisfied: pytesseract in /Users/cristinalawson/PycharmProjects/Assignment3/venv/lib/python3.9/site-packages (0.3.8)\r\n",
      "Requirement already satisfied: Pillow in /Users/cristinalawson/PycharmProjects/Assignment3/venv/lib/python3.9/site-packages (from pytesseract) (8.1.2)\r\n"
     ]
    }
   ]
  },
  {
   "cell_type": "markdown",
   "source": [
    "## Convert Documents"
   ],
   "metadata": {
    "collapsed": false
   }
  },
  {
   "cell_type": "code",
   "execution_count": null,
   "outputs": [],
   "source": [
    "# assigning an image from the source path\n",
    "img = Image.open('Data/Written/r0000_00.png')\n",
    "\n",
    "# converts the image to result and saves it into result variable\n",
    "result = pytesseract.image_to_string(img)\n",
    "print(result)"
   ],
   "metadata": {
    "collapsed": false,
    "pycharm": {
     "name": "#%%\n"
    }
   }
  },
  {
   "cell_type": "markdown",
   "source": [
    "## Translate Converted Documents\n",
    "\n",
    "## The Data\n",
    "\n",
    "## Voila!"
   ],
   "metadata": {
    "collapsed": false
   }
  },
  {
   "cell_type": "code",
   "metadata": {
    "id": "jzFl1IbSQc7Z"
   },
   "source": [],
   "execution_count": 2,
   "outputs": []
  }
 ]
}
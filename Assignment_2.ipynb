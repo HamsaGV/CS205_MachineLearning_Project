{
 "nbformat": 4,
 "nbformat_minor": 0,
 "metadata": {
  "colab": {
   "name": "Assignment 2.ipynb",
   "provenance": []
  },
  "kernelspec": {
   "name": "python3",
   "language": "python",
   "display_name": "Python 3"
  },
  "language_info": {
   "name": "python"
  }
 },
 "cells": [
  {
   "cell_type": "markdown",
   "metadata": {
    "id": "wev0zSShLEzX"
   },
   "source": [
    "# Image Text Extraction and Information Retrieval\n",
    "\n",
    "## The Question\n",
    "\n",
    "Being able to take pictures of text, recognize, convert into computer text, and search either typed or hand-written is a very interesting and useful concept.\n",
    "**How can we use python image processing and information retrieval libraries to extract text from images and search through the results with specific queries?**\n",
    "\n",
    "## The Data\n",
    "\n",
    "Our data consists of **typed and hand-written document images and scans**. We created a dataset that is combined from multiple other datasets. It consists of approximately **1509 data points.**\n",
    "\n",
    "## The Approach\n",
    "\n",
    "Since all these images have different document styles and structures, we want to see how well the image text detection library we're using will be able to convert the document into computer text thus allowing us to search through the documents. We will not be implementing the document image word extraction or the search engine from scratch, but we will be using multiple libraries in order to see how these machine learning and natural language processing concepts and libraries work.\n",
    "\n",
    "## Our Hypothesis\n",
    "\n",
    "Since some characters share similar features with other characters, and handwritten characters are less consistent than typed characters, we expect a higher accuracy rate when we convert images with typed text to regular text than when we convert images with handwritten text to regular text.\n",
    "\n",
    "## Why Bother?\n",
    "\n",
    "Teaching a machine to recognize physical typed and hand-written documents from pictures and scans as well as being able to search through these documents is a very important and useful machine learning concept.\n",
    "\n",
    "There are many applications such as being able to scan these documents into a database and being able to search for information within the documents.\n",
    "\n",
    "## Basic Setup\n",
    "\n",
    "### PIL, Pytesseract\n",
    "\n",
    "We first loaded in the machine learning libraries. **PIL** allows us to process the images. **Pytesseract** allows us to convert the text in the image into a text string. **Pandas** allows us to manipulate data frames easily. **Elasticsearch** allows us to initialize a search engine for our data."
   ]
  },
  {
   "cell_type": "code",
   "source": [
    "!pip install pytesseract\n",
    "!pip install pytesseract\n",
    "!pip install pandas\n",
    "!pip install elasticsearch"
   ],
   "metadata": {
    "collapsed": false,
    "pycharm": {
     "name": "#%%\n"
    }
   },
   "execution_count": null,
   "outputs": []
  },
  {
   "cell_type": "code",
   "execution_count": null,
   "outputs": [],
   "source": [
    "# adds image processing capabilities\n",
    "from PIL import Image\n",
    "\n",
    "# will convert the image text into a text string\n",
    "import pytesseract\n",
    "\n",
    "# allows us to open files\n",
    "import os\n",
    "\n",
    "# allows us to manipulate data frames easily\n",
    "import pandas as pd\n",
    "\n",
    "# allows us to initialize a search engine for our data\n",
    "from elasticsearch import Elasticsearch, helpers\n",
    "es = Elasticsearch([{'host': 'localhost', 'port': 9200}])\n",
    "\n",
    "# allows us to convert a dataframe to csv format\n",
    "import csv\n",
    "\n",
    "# provides access to some ariables and functions from the interpreter\n",
    "import sys"
   ],
   "metadata": {
    "collapsed": false,
    "pycharm": {
     "name": "#%%\n"
    }
   }
  },
  {
   "cell_type": "markdown",
   "source": [
    "## The Data\n",
    "\n",
    "## Convert Documents\n",
    "\n",
    "We start off by creating an empty list named *images* for storing the source path of each image and an empty list named *results* for storing the results of converting each image to text.The image data is stored in two separate folders, one for images with typed text and one for images with handwritten text. For each image in these two folders, we append the pathname to *images*, open the image using Image class from the PIL module, convert the image text to string text, and append the extracted string text to *results*.\n",
    "#### Only run if you intend to create a new datastore since it takes about an hour to run."
   ],
   "metadata": {
    "collapsed": false
   }
  },
  {
   "cell_type": "code",
   "execution_count": null,
   "outputs": [],
   "source": [
    "#list for storing each image and it's extracted text\n",
    "images = []\n",
    "results = []\n",
    "\n",
    "for filename in os.listdir('Data/Typed'):\n",
    "    if filename.endswith('.png'):\n",
    "        with open(os.path.join('Data/Typed', filename)) as f:\n",
    "            images.append('Data/Typed/' + filename)\n",
    "            # assigning an image from the source path\n",
    "            img = Image.open('Data/Typed/' + filename)\n",
    "            # converts the image to result and saves it into result variable\n",
    "            result = pytesseract.image_to_string(img)\n",
    "            results.append(result)\n",
    "\n",
    "for filename in os.listdir('Data/Written'):\n",
    "    if filename.endswith('.jpg'):\n",
    "        with open(os.path.join('Data/Written', filename)) as f:\n",
    "            images.append('Data/Written/' + filename)\n",
    "            # assigning an image from the source path\n",
    "            img = Image.open('Data/Written/' + filename)\n",
    "            # converts the image to result and saves it into result variable\n",
    "            result = pytesseract.image_to_string(img)\n",
    "            results.append(result)\n",
    "    if filename.endswith('.png'):\n",
    "        with open(os.path.join('Data/Written', filename)) as f:\n",
    "            images.append('Data/Written/' + filename)\n",
    "            # assigning an image from the source path\n",
    "            img = Image.open('Data/Written/' + filename)\n",
    "            # converts the image to result and saves it into result variable\n",
    "            result = pytesseract.image_to_string(img)\n",
    "            results.append(result)"
   ],
   "metadata": {
    "collapsed": false,
    "pycharm": {
     "name": "#%%\n"
    }
   }
  },
  {
   "cell_type": "markdown",
   "source": [
    "## Store in Datastore\n",
    "\n",
    "Here we create and convert a dictionary that stores the images and results into a Pandas DataFrame. Then we export the DataFrame to a csv file.\n",
    "\n",
    "#### Only run after running **Convert Documents**."
   ],
   "metadata": {
    "collapsed": false
   }
  },
  {
   "cell_type": "code",
   "execution_count": null,
   "outputs": [],
   "source": [
    "df = pd.DataFrame({\n",
    "        'image': images,\n",
    "        'result': results\n",
    "})\n",
    "\n",
    "df.to_csv('output.csv', index=False)"
   ],
   "metadata": {
    "collapsed": false,
    "pycharm": {
     "name": "#%%\n"
    }
   }
  },
  {
   "cell_type": "markdown",
   "source": [
    "## Elasticsearch\n",
    "\n",
    "Download Elasticsearch to your computer here: https://www.elastic.co/guide/en/elasticsearch/reference/current/install-elasticsearch.html\n",
    "\n",
    "Run Elasticsearch by following these steps: https://www.elastic.co/guide/en/elasticsearch/reference/6.8/getting-started-install.html\n",
    "\n",
    "Here we are creating an Elasticsearch index from the csv created from the data. The data consists of the image file path and the contents of the converted document."
   ],
   "metadata": {
    "collapsed": false
   }
  },
  {
   "cell_type": "code",
   "execution_count": null,
   "outputs": [],
   "source": [
    "with open('output.csv') as f:\n",
    "    reader = csv.DictReader(f)\n",
    "    es.indices.delete(index='documents')\n",
    "    helpers.bulk(es, reader, index='documents')\n",
    "    "
   ],
   "metadata": {
    "collapsed": false,
    "pycharm": {
     "name": "#%%\n"
    }
   }
  },
  {
   "cell_type": "markdown",
   "source": [
    "Here we get inputted searches from user input which then employs es.search in order to search through creaated index for searches inputted by the user. Once the user exits it outputs the search results."
   ],
   "metadata": {
    "collapsed": false
   }
  },
  {
   "cell_type": "code",
   "execution_count": null,
   "outputs": [],
   "source": [
    "searching = True\n",
    "\n",
    "while searching:\n",
    "    search = input(\"Search (to exit type 'exit'): \")\n",
    "\n",
    "    if (search == 'exit') or (search == 'Exit'):\n",
    "        break\n",
    "    else:\n",
    "        print('Search: ' + search)\n",
    "        print()\n",
    "        result = es.search(\n",
    "            index=\"documents\",\n",
    "            body={\n",
    "                \"query\": {\n",
    "                    \"multi_match\": {\n",
    "                        \"query\": search,\n",
    "                        \"fields\": [\"result\"]\n",
    "                    }\n",
    "                }\n",
    "            }\n",
    "        )\n",
    "    all_hits = result['hits']['hits']\n",
    "\n",
    "    for hit in all_hits:\n",
    "        print(\"Image:\", hit['_source']['image'])\n",
    "        im = Image.open(hit['_source']['image'])\n",
    "        im.show()\n",
    "        print(\"Result:\", hit['_source']['result'])"
   ],
   "metadata": {
    "collapsed": false,
    "pycharm": {
     "name": "#%%\n"
    }
   }
  },
  {
   "cell_type": "markdown",
   "source": [
    "\n",
    "## Voila!"
   ],
   "metadata": {
    "collapsed": false
   }
  },
  {
   "cell_type": "code",
   "metadata": {
    "id": "jzFl1IbSQc7Z"
   },
   "source": [],
   "execution_count": null,
   "outputs": []
  }
 ]
}
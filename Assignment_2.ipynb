{
 "nbformat": 4,
 "nbformat_minor": 0,
 "metadata": {
  "colab": {
   "name": "Assignment 2.ipynb",
   "provenance": []
  },
  "kernelspec": {
   "name": "python3",
   "language": "python",
   "display_name": "Python 3"
  },
  "language_info": {
   "name": "python"
  }
 },
 "cells": [
  {
   "cell_type": "markdown",
   "metadata": {
    "id": "wev0zSShLEzX"
   },
   "source": [
    "# Written Text Recognition, Text Language Translation, and Sentiment Analyzer\n",
    "\n",
    "## The Question\n",
    "\n",
    "## The Data\n",
    "\n",
    "## The Approach\n",
    "\n",
    "## Our Hypothesis\n",
    "\n",
    "## Why Bother?\n",
    "\n",
    "## Basic Setup"
   ]
  },
  {
   "cell_type": "code",
   "source": [
    "!pip install pytesseract\n",
    "!pip install googletrans\n",
    "!pip install pytesseract\n",
    "\n",
    "# adds image processing capabilities\n",
    "from PIL import Image\n",
    "\n",
    "# will convert the image to text string\n",
    "import pytesseract\n",
    "\n",
    "# translates into preferred language\n",
    "from googletrans import Translator\n"
   ],
   "metadata": {
    "collapsed": false,
    "pycharm": {
     "name": "#%%\n"
    }
   },
   "execution_count": 8,
   "outputs": [
    {
     "name": "stdout",
     "output_type": "stream",
     "text": [
      "Requirement already satisfied: pytesseract in /Users/cristinalawson/PycharmProjects/Assignment3/venv/lib/python3.9/site-packages (0.3.8)\r\n",
      "Requirement already satisfied: Pillow in /Users/cristinalawson/PycharmProjects/Assignment3/venv/lib/python3.9/site-packages (from pytesseract) (8.1.2)\r\n",
      "Requirement already satisfied: googletrans in /Users/cristinalawson/PycharmProjects/Assignment3/venv/lib/python3.9/site-packages (3.0.0)\r\n",
      "Requirement already satisfied: httpx==0.13.3 in /Users/cristinalawson/PycharmProjects/Assignment3/venv/lib/python3.9/site-packages (from googletrans) (0.13.3)\r\n",
      "Requirement already satisfied: certifi in /Users/cristinalawson/PycharmProjects/Assignment3/venv/lib/python3.9/site-packages (from httpx==0.13.3->googletrans) (2021.5.30)\r\n",
      "Requirement already satisfied: httpcore==0.9.* in /Users/cristinalawson/PycharmProjects/Assignment3/venv/lib/python3.9/site-packages (from httpx==0.13.3->googletrans) (0.9.1)\r\n",
      "Requirement already satisfied: chardet==3.* in /Users/cristinalawson/PycharmProjects/Assignment3/venv/lib/python3.9/site-packages (from httpx==0.13.3->googletrans) (3.0.4)\r\n",
      "Requirement already satisfied: hstspreload in /Users/cristinalawson/PycharmProjects/Assignment3/venv/lib/python3.9/site-packages (from httpx==0.13.3->googletrans) (2021.12.1)\r\n",
      "Requirement already satisfied: rfc3986<2,>=1.3 in /Users/cristinalawson/PycharmProjects/Assignment3/venv/lib/python3.9/site-packages (from httpx==0.13.3->googletrans) (1.5.0)\r\n",
      "Requirement already satisfied: sniffio in /Users/cristinalawson/PycharmProjects/Assignment3/venv/lib/python3.9/site-packages (from httpx==0.13.3->googletrans) (1.2.0)\r\n",
      "Requirement already satisfied: idna==2.* in /Users/cristinalawson/PycharmProjects/Assignment3/venv/lib/python3.9/site-packages (from httpx==0.13.3->googletrans) (2.10)\r\n",
      "Requirement already satisfied: h2==3.* in /Users/cristinalawson/PycharmProjects/Assignment3/venv/lib/python3.9/site-packages (from httpcore==0.9.*->httpx==0.13.3->googletrans) (3.2.0)\r\n",
      "Requirement already satisfied: h11<0.10,>=0.8 in /Users/cristinalawson/PycharmProjects/Assignment3/venv/lib/python3.9/site-packages (from httpcore==0.9.*->httpx==0.13.3->googletrans) (0.9.0)\r\n",
      "Requirement already satisfied: hyperframe<6,>=5.2.0 in /Users/cristinalawson/PycharmProjects/Assignment3/venv/lib/python3.9/site-packages (from h2==3.*->httpcore==0.9.*->httpx==0.13.3->googletrans) (5.2.0)\r\n",
      "Requirement already satisfied: hpack<4,>=3.0 in /Users/cristinalawson/PycharmProjects/Assignment3/venv/lib/python3.9/site-packages (from h2==3.*->httpcore==0.9.*->httpx==0.13.3->googletrans) (3.0.0)\r\n",
      "Requirement already satisfied: pytesseract in /Users/cristinalawson/PycharmProjects/Assignment3/venv/lib/python3.9/site-packages (0.3.8)\r\n",
      "Requirement already satisfied: Pillow in /Users/cristinalawson/PycharmProjects/Assignment3/venv/lib/python3.9/site-packages (from pytesseract) (8.1.2)\r\n"
     ]
    }
   ]
  },
  {
   "cell_type": "markdown",
   "source": [
    "## The Data\n",
    "\n",
    "## Voila!"
   ],
   "metadata": {
    "collapsed": false
   }
  },
  {
   "cell_type": "code",
   "metadata": {
    "id": "jzFl1IbSQc7Z"
   },
   "source": [],
   "execution_count": null,
   "outputs": []
  }
 ]
}
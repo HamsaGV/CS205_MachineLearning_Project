{
 "nbformat": 4,
 "nbformat_minor": 0,
 "metadata": {
  "colab": {
   "name": "Assignment 2.ipynb",
   "provenance": []
  },
  "kernelspec": {
   "name": "python3",
   "language": "python",
   "display_name": "Python 3"
  },
  "language_info": {
   "name": "python"
  }
 },
 "cells": [
  {
   "cell_type": "markdown",
   "metadata": {
    "id": "wev0zSShLEzX"
   },
   "source": [
    "# Image Text Extraction and Information Retrieval\n",
    "\n",
    "## The Question\n",
    "\n",
    "Being able to take pictures of text, recognize, convert into computer text, and search either typed or hand-written is a very interesting and useful concept.\n",
    "**What is the best way to extract text from images and search through them with specific queries?**\n",
    "\n",
    "## The Data\n",
    "\n",
    "Our data consists of **typed and hand-written document images and scans**. We created a dataset that is combined from multiple other datasets. It consists of approximately **1509 data points.**\n",
    "\n",
    "## The Approach\n",
    "\n",
    "Since all these images have different document styles and structures, we want to see how well the image text detection library we're using will be able to convert the document into computer text thus allowing us to search through the documents. We will not be implementing the document image word extraction or TF-IDF from scratch, but we will be using multiple libraries in order to see how these machine learning and natural language processing concepts and libraries work. The libraries we will be using are\n",
    "\n",
    "## Our Hypothesis\n",
    "\n",
    "\n",
    "\n",
    "## Why Bother?\n",
    "\n",
    "Teaching a machine to recognize physical typed and hand-written documents from pictures and scans as well as being able to search through these documents is a very important and useful machine learning concept.\n",
    "\n",
    "There are many applications such as being able to scan these documents into a database and being able to search for information within the documents.\n",
    "\n",
    "## Basic Setup\n",
    "\n",
    "### PIL, Pytesseract\n",
    "\n",
    "We first loaded in the machine learning libraries. **PIL** allows us to process the images. **Pytesseract** allows us to convert the text in the image into a text string."
   ]
  },
  {
   "cell_type": "code",
   "source": [
    "!pip install pytesseract\n",
    "!pip install googletrans\n",
    "!pip install pytesseract\n",
    "!pip install pandas\n",
    "\n",
    "# adds image processing capabilities\n",
    "from PIL import Image\n",
    "\n",
    "# will convert the image text into a text string\n",
    "import pytesseract\n",
    "\n",
    "import os\n",
    "\n",
    "import pandas as pd\n",
    "\n",
    "from elasticsearch import Elasticsearch, helpers\n",
    "import csv\n",
    "import sys"
   ],
   "metadata": {
    "collapsed": false,
    "pycharm": {
     "name": "#%%\n"
    }
   },
   "execution_count": 12,
   "outputs": [
    {
     "name": "stdout",
     "output_type": "stream",
     "text": [
      "Requirement already satisfied: pytesseract in /Users/cristinalawson/PycharmProjects/Assignment3/venv/lib/python3.9/site-packages (0.3.8)\r\n",
      "Requirement already satisfied: Pillow in /Users/cristinalawson/PycharmProjects/Assignment3/venv/lib/python3.9/site-packages (from pytesseract) (8.1.2)\r\n",
      "Requirement already satisfied: googletrans in /Users/cristinalawson/PycharmProjects/Assignment3/venv/lib/python3.9/site-packages (3.0.0)\r\n",
      "Requirement already satisfied: httpx==0.13.3 in /Users/cristinalawson/PycharmProjects/Assignment3/venv/lib/python3.9/site-packages (from googletrans) (0.13.3)\r\n",
      "Requirement already satisfied: chardet==3.* in /Users/cristinalawson/PycharmProjects/Assignment3/venv/lib/python3.9/site-packages (from httpx==0.13.3->googletrans) (3.0.4)\r\n",
      "Requirement already satisfied: sniffio in /Users/cristinalawson/PycharmProjects/Assignment3/venv/lib/python3.9/site-packages (from httpx==0.13.3->googletrans) (1.2.0)\r\n",
      "Requirement already satisfied: httpcore==0.9.* in /Users/cristinalawson/PycharmProjects/Assignment3/venv/lib/python3.9/site-packages (from httpx==0.13.3->googletrans) (0.9.1)\r\n",
      "Requirement already satisfied: rfc3986<2,>=1.3 in /Users/cristinalawson/PycharmProjects/Assignment3/venv/lib/python3.9/site-packages (from httpx==0.13.3->googletrans) (1.5.0)\r\n",
      "Requirement already satisfied: idna==2.* in /Users/cristinalawson/PycharmProjects/Assignment3/venv/lib/python3.9/site-packages (from httpx==0.13.3->googletrans) (2.10)\r\n",
      "Requirement already satisfied: hstspreload in /Users/cristinalawson/PycharmProjects/Assignment3/venv/lib/python3.9/site-packages (from httpx==0.13.3->googletrans) (2021.12.1)\r\n",
      "Requirement already satisfied: certifi in /Users/cristinalawson/PycharmProjects/Assignment3/venv/lib/python3.9/site-packages (from httpx==0.13.3->googletrans) (2021.5.30)\r\n",
      "Requirement already satisfied: h11<0.10,>=0.8 in /Users/cristinalawson/PycharmProjects/Assignment3/venv/lib/python3.9/site-packages (from httpcore==0.9.*->httpx==0.13.3->googletrans) (0.9.0)\r\n",
      "Requirement already satisfied: h2==3.* in /Users/cristinalawson/PycharmProjects/Assignment3/venv/lib/python3.9/site-packages (from httpcore==0.9.*->httpx==0.13.3->googletrans) (3.2.0)\r\n",
      "Requirement already satisfied: hpack<4,>=3.0 in /Users/cristinalawson/PycharmProjects/Assignment3/venv/lib/python3.9/site-packages (from h2==3.*->httpcore==0.9.*->httpx==0.13.3->googletrans) (3.0.0)\r\n",
      "Requirement already satisfied: hyperframe<6,>=5.2.0 in /Users/cristinalawson/PycharmProjects/Assignment3/venv/lib/python3.9/site-packages (from h2==3.*->httpcore==0.9.*->httpx==0.13.3->googletrans) (5.2.0)\r\n",
      "Requirement already satisfied: pytesseract in /Users/cristinalawson/PycharmProjects/Assignment3/venv/lib/python3.9/site-packages (0.3.8)\r\n",
      "Requirement already satisfied: Pillow in /Users/cristinalawson/PycharmProjects/Assignment3/venv/lib/python3.9/site-packages (from pytesseract) (8.1.2)\r\n",
      "Requirement already satisfied: pandas in /Users/cristinalawson/PycharmProjects/Assignment3/venv/lib/python3.9/site-packages (1.2.3)\r\n",
      "Requirement already satisfied: numpy>=1.16.5 in /Users/cristinalawson/PycharmProjects/Assignment3/venv/lib/python3.9/site-packages (from pandas) (1.20.1)\r\n",
      "Requirement already satisfied: pytz>=2017.3 in /Users/cristinalawson/PycharmProjects/Assignment3/venv/lib/python3.9/site-packages (from pandas) (2021.1)\r\n",
      "Requirement already satisfied: python-dateutil>=2.7.3 in /Users/cristinalawson/PycharmProjects/Assignment3/venv/lib/python3.9/site-packages (from pandas) (2.8.1)\r\n",
      "Requirement already satisfied: six>=1.5 in /Users/cristinalawson/PycharmProjects/Assignment3/venv/lib/python3.9/site-packages (from python-dateutil>=2.7.3->pandas) (1.15.0)\r\n"
     ]
    }
   ]
  },
  {
   "cell_type": "markdown",
   "source": [
    "## Convert Documents"
   ],
   "metadata": {
    "collapsed": false
   }
  },
  {
   "cell_type": "code",
   "execution_count": null,
   "outputs": [],
   "source": [
    "#list for storing each image and it's extracted text\n",
    "images = []\n",
    "results = []\n",
    "\n",
    "for filename in os.listdir('Data/Typed'):\n",
    "    if filename.endswith('.png'):\n",
    "        with open(os.path.join('Data/Typed', filename)) as f:\n",
    "            # assigning an image from the source path\n",
    "            img = Image.open('Data/Typed/' + filename)\n",
    "            images.append(img)\n",
    "            # converts the image to result and saves it into result variable\n",
    "            result = pytesseract.image_to_string(img)\n",
    "            results.append(result)\n",
    "\n",
    "for filename in os.listdir('Data/Written'):\n",
    "    if filename.endswith('.jpg'):\n",
    "        with open(os.path.join('Data/Written', filename)) as f:\n",
    "            # assigning an image from the source path\n",
    "            img = Image.open('Data/Written/' + filename)\n",
    "            images.append(img)\n",
    "            # converts the image to result and saves it into result variable\n",
    "            result = pytesseract.image_to_string(img)\n",
    "            results.append(result)\n",
    "    if filename.endswith('.png'):\n",
    "        with open(os.path.join('Data/Written', filename)) as f:\n",
    "            # assigning an image from the source path\n",
    "            img = Image.open('Data/Written/' + filename)\n",
    "            images.append(img)\n",
    "            # converts the image to result and saves it into result variable\n",
    "            result = pytesseract.image_to_string(img)\n",
    "            results.append(result)"
   ],
   "metadata": {
    "collapsed": false,
    "pycharm": {
     "name": "#%%\n",
     "is_executing": true
    }
   }
  },
  {
   "cell_type": "markdown",
   "source": [
    "## Store in Datastore"
   ],
   "metadata": {
    "collapsed": false
   }
  },
  {
   "cell_type": "code",
   "execution_count": null,
   "outputs": [],
   "source": [
    "df = pd.DataFrame({\n",
    "        'image': images,\n",
    "        'result': results\n",
    "})\n",
    "\n",
    "df.to_csv('output.csv', index=False)"
   ],
   "metadata": {
    "collapsed": false,
    "pycharm": {
     "name": "#%%\n"
    }
   }
  },
  {
   "cell_type": "markdown",
   "source": [
    "## Elasticsearch"
   ],
   "metadata": {
    "collapsed": false
   }
  },
  {
   "cell_type": "code",
   "execution_count": null,
   "outputs": [],
   "source": [
    "with open('output.csv') as f:\n",
    "    reader = csv.DictReader(f)\n",
    "    es.indices.delete(index='documents')\n",
    "    helpers.bulk(es, reader, index='documents')"
   ],
   "metadata": {
    "collapsed": false,
    "pycharm": {
     "name": "#%%\n"
    }
   }
  },
  {
   "cell_type": "code",
   "execution_count": null,
   "outputs": [],
   "source": [
    "searching = True\n",
    "\n",
    "while searching:\n",
    "    search = input(\"Search (to exit type 'exit'): \")\n",
    "\n",
    "    if (search == 'exit') or (search == 'Exit'):\n",
    "        break\n",
    "    else:\n",
    "        result = es.search(\n",
    "            index=\"documents\",\n",
    "            body={\n",
    "                \"query\": {\n",
    "                    \"multi_match\": {\n",
    "                        \"query\": search,\n",
    "                        \"fields\": [\"result\"]\n",
    "                    }\n",
    "                }\n",
    "            }\n",
    "        )\n",
    "    all_hits = result['hits']['hits']\n",
    "\n",
    "    for hit in all_hits:\n",
    "        print(\"Result:\", hit['_source']['result'])\n",
    "        print(\"Image:\", hit['_source']['image'])"
   ],
   "metadata": {
    "collapsed": false,
    "pycharm": {
     "name": "#%%\n"
    }
   }
  },
  {
   "cell_type": "markdown",
   "source": [
    "## The Data\n",
    "\n",
    "## Voila!"
   ],
   "metadata": {
    "collapsed": false
   }
  },
  {
   "cell_type": "code",
   "metadata": {
    "id": "jzFl1IbSQc7Z"
   },
   "source": [],
   "execution_count": 3,
   "outputs": []
  }
 ]
}